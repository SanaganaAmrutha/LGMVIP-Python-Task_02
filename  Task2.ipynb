{
 "cells": [
  {
   "cell_type": "code",
   "execution_count": 7,
   "id": "bdc92e84-c739-4bff-aca5-5be4f43f7c7e",
   "metadata": {
    "tags": []
   },
   "outputs": [],
   "source": [
    "# Import required libraries\n",
    "import turtle\n",
    "import time\n",
    "import random\n",
    "delay=0.1"
   ]
  },
  {
   "cell_type": "code",
   "execution_count": 8,
   "id": "98eb95a0-82cf-44d5-9f1c-09034581eed5",
   "metadata": {
    "tags": []
   },
   "outputs": [],
   "source": [
    "# Set up the screen\n",
    "wn = turtle.Screen()\n",
    "wn.title(\"Snake Game\")\n",
    "wn.bgcolor(\"black\")\n",
    "wn.setup(width=600, height=600)\n",
    "wn.tracer(0)  # Turns off the screen updates\n"
   ]
  },
  {
   "cell_type": "code",
   "execution_count": 9,
   "id": "3595e26a-3521-4c3d-94b7-714bb85fff9e",
   "metadata": {
    "tags": []
   },
   "outputs": [],
   "source": [
    "# Snake head\n",
    "snake = turtle.Turtle()\n",
    "snake.shape(\"square\")\n",
    "snake.color(\"white\")\n",
    "snake.penup()\n",
    "snake.goto(0, 0)\n",
    "snake.direction = \"stop\"\n",
    "\n",
    "# Food\n",
    "food = turtle.Turtle()\n",
    "food.shape(\"circle\")\n",
    "food.color(\"red\")\n",
    "food.penup()\n",
    "food.goto(0, 100)\n",
    "\n",
    "segments = []\n"
   ]
  },
  {
   "cell_type": "code",
   "execution_count": 10,
   "id": "2b891f1d-aa25-41f1-846e-eb2a085a9c51",
   "metadata": {
    "tags": []
   },
   "outputs": [],
   "source": [
    "# Functions to control the snake\n",
    "def go_up():\n",
    "    if snake.direction != \"down\":\n",
    "        snake.direction = \"up\"\n",
    "\n",
    "def go_down():\n",
    "    if snake.direction != \"up\":\n",
    "        snake.direction = \"down\"\n",
    "\n",
    "def go_left():\n",
    "    if snake.direction != \"right\":\n",
    "        snake.direction = \"left\"\n",
    "\n",
    "def go_right():\n",
    "    if snake.direction != \"left\":\n",
    "        snake.direction = \"right\"\n",
    "\n",
    "def move():\n",
    "    if snake.direction == \"up\":\n",
    "        snake.sety(snake.ycor() + 20)\n",
    "    if snake.direction == \"down\":\n",
    "        snake.sety(snake.ycor() - 20)\n",
    "    if snake.direction == \"left\":\n",
    "        snake.setx(snake.xcor() - 20)\n",
    "    if snake.direction == \"right\":\n",
    "        snake.setx(snake.xcor() + 20)\n"
   ]
  },
  {
   "cell_type": "code",
   "execution_count": 11,
   "id": "a9471cd3-d0a5-4337-a8e4-e37d08a4f857",
   "metadata": {
    "tags": []
   },
   "outputs": [],
   "source": [
    "# Keyboard bindings\n",
    "wn.listen()\n",
    "wn.onkey(go_up, \"w\")\n",
    "wn.onkey(go_down, \"s\")\n",
    "wn.onkey(go_left, \"a\")\n",
    "wn.onkey(go_right, \"d\")\n"
   ]
  },
  {
   "cell_type": "code",
   "execution_count": null,
   "id": "c60950b2-9ef2-4fa5-abda-113787b39f63",
   "metadata": {
    "tags": []
   },
   "outputs": [],
   "source": [
    "# Main game loop\n",
    "while True:\n",
    "    wn.update()\n",
    "\n",
    "    # Check for border collision\n",
    "    if abs(snake.xcor()) > 290 or abs(snake.ycor()) > 290:\n",
    "        time.sleep(1)\n",
    "        snake.goto(0, 0)\n",
    "        snake.direction = \"stop\"\n",
    "        for segment in segments:\n",
    "            segment.goto(1000, 1000)\n",
    "        segments.clear()\n",
    "\n",
    "    # Check for food collision\n",
    "    if snake.distance(food) < 20:\n",
    "        x = random.randint(-290, 290)\n",
    "        y = random.randint(-290, 290)\n",
    "        food.goto(x, y)\n",
    "        new_segment = turtle.Turtle()\n",
    "        new_segment.shape(\"square\")\n",
    "        new_segment.color(\"grey\")\n",
    "        new_segment.penup()\n",
    "        segments.append(new_segment)\n",
    "\n",
    "    # Move the end segments first in reverse order\n",
    "    for i in range(len(segments) - 1, 0, -1):\n",
    "        x = segments[i - 1].xcor()\n",
    "        y = segments[i - 1].ycor()\n",
    "        segments[i].goto(x, y)\n",
    "\n",
    "    # Move segment 0 to where the head is\n",
    "    if segments:\n",
    "        x = snake.xcor()\n",
    "        y = snake.ycor()\n",
    "        segments[0].goto(x, y)\n",
    "\n",
    "    move()\n",
    "\n",
    "    # Check for head collision with body\n",
    "    for segment in segments:\n",
    "        if segment.distance(snake) < 20:\n",
    "            time.sleep(1)\n",
    "            snake.goto(0, 0)\n",
    "            snake.direction = \"stop\"\n",
    "            for segment in segments:\n",
    "                segment.goto(1000, 1000)\n",
    "            segments.clear()\n",
    "\n",
    "    time.sleep(delay)\n",
    "\n",
    "wn.mainloop()\n"
   ]
  },
  {
   "cell_type": "code",
   "execution_count": null,
   "id": "1c098399-cb35-4251-acaa-0506f071f115",
   "metadata": {},
   "outputs": [],
   "source": []
  }
 ],
 "metadata": {
  "kernelspec": {
   "display_name": "Python 3 (ipykernel)",
   "language": "python",
   "name": "python3"
  },
  "language_info": {
   "codemirror_mode": {
    "name": "ipython",
    "version": 3
   },
   "file_extension": ".py",
   "mimetype": "text/x-python",
   "name": "python",
   "nbconvert_exporter": "python",
   "pygments_lexer": "ipython3",
   "version": "3.11.5"
  }
 },
 "nbformat": 4,
 "nbformat_minor": 5
}
